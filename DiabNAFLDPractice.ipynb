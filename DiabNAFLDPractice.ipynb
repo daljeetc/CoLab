{
  "nbformat": 4,
  "nbformat_minor": 0,
  "metadata": {
    "colab": {
      "name": "DiabNAFLDPractice.ipynb",
      "provenance": [],
      "collapsed_sections": [],
      "mount_file_id": "16TDIvHj9UVqZV-z3OmUM9nv4wQj7Pibk",
      "authorship_tag": "ABX9TyMaYKSLBYSX6vH4uYcC8Vha",
      "include_colab_link": true
    },
    "kernelspec": {
      "name": "python3",
      "display_name": "Python 3"
    },
    "language_info": {
      "name": "python"
    },
    "gpuClass": "standard"
  },
  "cells": [
    {
      "cell_type": "markdown",
      "metadata": {
        "id": "view-in-github",
        "colab_type": "text"
      },
      "source": [
        "<a href=\"https://colab.research.google.com/github/daljeetc/CoLab/blob/main/DiabNAFLDPractice.ipynb\" target=\"_parent\"><img src=\"https://colab.research.google.com/assets/colab-badge.svg\" alt=\"Open In Colab\"/></a>"
      ]
    },
    {
      "cell_type": "code",
      "execution_count": 1,
      "metadata": {
        "id": "Nwy_bDtmmfrK"
      },
      "outputs": [],
      "source": [
        "#Load Packages\n",
        "import numpy as np\n",
        "import pandas as pd\n",
        "import matplotlib.pyplot as plt\n",
        "import seaborn as sns\n",
        "%matplotlib inline"
      ]
    },
    {
      "cell_type": "code",
      "source": [
        "#Load Data - utf-8 Error Correction Found on Stack Overflow\n",
        "#Note that Google Drive is already mounted, hence the following code will work\n",
        "path = '/content/drive/MyDrive/DiabNAFLD/data.csv'\n",
        "df = pd.read_csv(path, encoding='windows-1252')"
      ],
      "metadata": {
        "id": "i3Hn6TH7rBA1"
      },
      "execution_count": 2,
      "outputs": []
    },
    {
      "cell_type": "code",
      "source": [
        "#Rename Columns for Ease of Use\n",
        "df.rename(columns = {'Alcohol drinker status': 'alc_status', \n",
        "                     'Amount of alcohol drunk\\xa0': 'alc_amt', \n",
        "                     'Age':'age',\n",
        "                     'Ever smoked': 'ever_smoker', \n",
        "                     'Sex': 'sex', \n",
        "                     'Smoking status': 'smoking_status', \n",
        "                     'Alanine aminotransferase': 'alt', \n",
        "                     'Albumin': 'albumin',\t\n",
        "                     'Alkaline phosphatase': 'alp',\t\n",
        "                     'Arterial stiffness': 'art_stiffness', \n",
        "                     'Aspartate aminotransferase': 'ast',\n",
        "                     'BMI': 'bmi',\t\n",
        "                     'Cholesterol': 'chol',\n",
        "                     'C-reactive protein': 'crp',\t\n",
        "                     'Creatinine': 'creat',\n",
        "                     'Direct bilirubin': 'dbili',\n",
        "                     'Disastolic_Blood_pressure_automated': 'dias_bp',\t\n",
        "                     'Gamma glutamyltransferase': 'ggt',\n",
        "                     'Glucose': 'glucose',\n",
        "                     'Glycated haemoglobin (HbA1c)': 'hba1c',\n",
        "                     'Haemoglobin concentration': 'hgb', \n",
        "                     'HDL cholesterol': 'hdl', \n",
        "                     'hs-CRP': 'hscrp', \n",
        "                     'LDL': 'ldl', \n",
        "                     'LV end diastolic volume': 'lv_edv', \n",
        "                     'LV end systolic volume': 'lv_esv', \n",
        "                     'Mean corpuscular volume': 'mcv', \n",
        "                     'Mean platelet (thrombocyte) volume': 'mpv', \n",
        "                     'Platelet count': 'plt', \n",
        "                     'Platelet distribution width': 'pdw', \n",
        "                     'Red blood cell (erythrocyte) count': 'rbc', \n",
        "                     'Red blood cell (erythrocyte) distribution width': 'rdw', \n",
        "                     'Systolic_Blood_Pressure': 'sys_bp', \n",
        "                     'Total bilirubin': 'tbili',\t\n",
        "                     'Total protein': 'total_protein',\t\n",
        "                     'Triglycerides': 'triglycerides',\n",
        "                     'Urate': 'urate',\n",
        "                     'Visceral adipose tissue volume (VAT)': 'vat',\t\n",
        "                     'Vitamin D': 'vitd',\n",
        "                     'Waist circumference' :'waist_circum',\t\n",
        "                     'White blood cell (leukocyte) count': 'wbc',\t\n",
        "                     'Proton density fat fraction (PDFF)': 'pdff',\t\n",
        "                     'NAFLD (Yes=1,NO=0)': 'nafld'}, \n",
        "          inplace = True)"
      ],
      "metadata": {
        "id": "f2KhhIUct0st"
      },
      "execution_count": 3,
      "outputs": []
    },
    {
      "cell_type": "code",
      "source": [
        "#Change Columns that are Categorical to Correct Data Type\n",
        "for col in ['alc_status', 'ever_smoker', 'sex', 'smoking_status', 'nafld']:\n",
        "    df[col] = df[col].astype('category')"
      ],
      "metadata": {
        "id": "LJFB8JX0Yox5"
      },
      "execution_count": 4,
      "outputs": []
    },
    {
      "cell_type": "code",
      "source": [
        "#Examine Column Data Types\n",
        "df.info()"
      ],
      "metadata": {
        "id": "7gblDRDWYYWl"
      },
      "execution_count": null,
      "outputs": []
    },
    {
      "cell_type": "code",
      "source": [
        "#Describe Numerical Variables\n",
        "df.describe()"
      ],
      "metadata": {
        "id": "2KpRu1K3ATH4"
      },
      "execution_count": null,
      "outputs": []
    },
    {
      "cell_type": "code",
      "source": [
        "#Describe Categorical Variables\n",
        "for col in ['alc_status', 'ever_smoker', 'sex', 'smoking_status', 'nafld']:\n",
        "    print(df[col].describe())"
      ],
      "metadata": {
        "id": "WjFy_7qWCb9T"
      },
      "execution_count": null,
      "outputs": []
    },
    {
      "cell_type": "code",
      "source": [
        "#Unique Counts for Each Categorical Variable\n",
        "for col in ['alc_status', 'ever_smoker', 'sex', 'smoking_status', 'nafld']:\n",
        "  print(df[col].value_counts())"
      ],
      "metadata": {
        "id": "TghU0wkt11EF"
      },
      "execution_count": null,
      "outputs": []
    }
  ]
}